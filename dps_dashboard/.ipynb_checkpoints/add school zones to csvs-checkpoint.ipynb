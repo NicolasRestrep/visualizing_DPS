{
 "cells": [
  {
   "cell_type": "code",
   "execution_count": 1,
   "id": "50ff2ac5",
   "metadata": {},
   "outputs": [],
   "source": [
    "import json\n",
    "from shapely.geometry import shape, Point\n",
    "\n",
    "#to plot polygons\n",
    "import matplotlib.pyplot as plt\n",
    "import geopandas as gpd\n",
    "\n",
    "#to open the csv, excel files as dataframes \n",
    "import pandas as pd\n",
    "import numpy as np\n",
    "\n",
    "#to list all files in a dir\n",
    "from os import listdir\n",
    "from os.path import isfile, join\n",
    "\n",
    "def check_single(geojs, point):\n",
    "    for feature in geojs['features']:\n",
    "        polygon = shape(feature['geometry'])\n",
    "        #print(polygon)\n",
    "        #p = gpd.GeoSeries(polygon)\n",
    "        #p.plot()\n",
    "        #plt.show()\n",
    "        if polygon.contains(point):\n",
    "            return True\n",
    "        \n",
    "    return False\n",
    "\n",
    "def check(geofilesdir, spatialfilesdir):\n",
    "    \n",
    "    geofiles = [f for f in listdir(geofilesdir) if isfile(join(geofilesdir, f))]\n",
    "    spatialfiles = [f for f in listdir(spatialfilesdir) if isfile(join(spatialfilesdir, f))]\n",
    "    print(geofiles)\n",
    "    print(spatialfiles)\n",
    "    \n",
    "    for spatialfile in spatialfiles:\n",
    "        print(\"Processing now: \" + spatialfile)\n",
    "        df = pd.read_csv(spatialfilesdir+spatialfile)\n",
    "        df[\"school_zones\"] = \"\"\n",
    "        \n",
    "        for geofile in geofiles:\n",
    "            with open(geofilesdir+geofile, 'r') as f:\n",
    "                geojs = json.load(f)\n",
    "            schoolname = geofile[:len(geofile) - 8]\n",
    "            \n",
    "            for index, row in df.iterrows():\n",
    "                longitude = float(row['LONGITUDE'])\n",
    "                latitude = float(row['LATITUDE'])\n",
    "                point = Point(longitude, latitude)\n",
    "                zones = row[\"school_zones\"]\n",
    "                if check_single(geojs, point):\n",
    "                    zones = zones + schoolname + \",\"\n",
    "                df.at[index,'school_zones'] = zones\n",
    "        \n",
    "        for index, row in df.iterrows():\n",
    "            zones = row[\"school_zones\"]\n",
    "            zones = zones[:-1]\n",
    "            df.at[index,'school_zones'] = zones\n",
    "        \n",
    "        newspatialfile = spatialfile\n",
    "        df.to_csv(spatialfilesdir+newspatialfile)"
   ]
  },
  {
   "cell_type": "code",
   "execution_count": 2,
   "id": "b49b75f2",
   "metadata": {
    "scrolled": false
   },
   "outputs": [
    {
     "ename": "FileNotFoundError",
     "evalue": "[Errno 2] No such file or directory: 'data/2021/map_data/CC Spaulding.geojson'",
     "output_type": "error",
     "traceback": [
      "\u001b[1;31m---------------------------------------------------------------------------\u001b[0m",
      "\u001b[1;31mFileNotFoundError\u001b[0m                         Traceback (most recent call last)",
      "Input \u001b[1;32mIn [2]\u001b[0m, in \u001b[0;36m<cell line: 3>\u001b[1;34m()\u001b[0m\n\u001b[0;32m      1\u001b[0m \u001b[38;5;66;03m#single example: Forest hills clubhouse contained in the CC Spaulding school zone\u001b[39;00m\n\u001b[0;32m      2\u001b[0m point \u001b[38;5;241m=\u001b[39m Point(\u001b[38;5;241m-\u001b[39m\u001b[38;5;241m78.91356462\u001b[39m, \u001b[38;5;241m35.97993926\u001b[39m)\n\u001b[1;32m----> 3\u001b[0m \u001b[38;5;28;01mwith\u001b[39;00m \u001b[38;5;28;43mopen\u001b[39;49m\u001b[43m(\u001b[49m\u001b[38;5;124;43m'\u001b[39;49m\u001b[38;5;124;43mdata/2021/map_data/CC Spaulding.geojson\u001b[39;49m\u001b[38;5;124;43m'\u001b[39;49m\u001b[43m,\u001b[49m\u001b[43m \u001b[49m\u001b[38;5;124;43m'\u001b[39;49m\u001b[38;5;124;43mr\u001b[39;49m\u001b[38;5;124;43m'\u001b[39;49m\u001b[43m)\u001b[49m \u001b[38;5;28;01mas\u001b[39;00m f:\n\u001b[0;32m      4\u001b[0m     geojs \u001b[38;5;241m=\u001b[39m json\u001b[38;5;241m.\u001b[39mload(f)\n\u001b[0;32m      6\u001b[0m df \u001b[38;5;241m=\u001b[39m pd\u001b[38;5;241m.\u001b[39mread_csv(\u001b[38;5;124m\"\u001b[39m\u001b[38;5;124mdata/2021/spatial_data/renamed_Recreation Centers.csv\u001b[39m\u001b[38;5;124m\"\u001b[39m)\n",
      "\u001b[1;31mFileNotFoundError\u001b[0m: [Errno 2] No such file or directory: 'data/2021/map_data/CC Spaulding.geojson'"
     ]
    }
   ],
   "source": [
    "#single example: Forest hills clubhouse contained in the CC Spaulding school zone\n",
    "point = Point(-78.91356462, 35.97993926)\n",
    "with open('data/2021/map_data/C.C. Spaulding Elementary.geojson', 'r') as f:\n",
    "    geojs = json.load(f)\n",
    "    \n",
    "df = pd.read_csv(\"data/2021/spatial_data/renamed_Recreation Centers.csv\")\n",
    "point2 = Point(df.iloc[[11]][\"LONGITUDE\"], df.iloc[[11]][\"LATITUDE\"])\n",
    "\n",
    "#should print True\n",
    "print(check_single(geojs, point))\n",
    "print(check_single(geojs, point2))"
   ]
  },
  {
   "cell_type": "code",
   "execution_count": 3,
   "id": "e1efbc18",
   "metadata": {
    "scrolled": false
   },
   "outputs": [
    {
     "name": "stdout",
     "output_type": "stream",
     "text": [
      "['CC Spaulding.geojson', 'CEJordan.geojson', 'Eastway.geojson', 'EK Powe.geojson', 'Fayetteville St.geojson', 'Forest View.geojson', 'Hillside.geojson', 'Lakewood.geojson', 'Parkwood.geojson', 'Southwest.geojson', 'Ten Schools.geojson']\n",
      "['renamed_After-School Care Programs.csv', 'renamed_Bus Stops.csv', 'renamed_Childcare Centers_2022.csv', 'renamed_Community & Cultural Centers.csv', 'renamed_Community Gardens.csv', 'renamed_Food Pantries.csv', 'renamed_Grocery Stores.csv', 'renamed_Hospitals and Clinics.csv', 'renamed_Libraries.csv', 'renamed_Parks.csv', 'renamed_Recreation Centers.csv', 'renamed_Religious Centers.csv', \"url_Farmer's Markets.csv\"]\n",
      "Processing now: renamed_After-School Care Programs.csv\n",
      "Processing now: renamed_Bus Stops.csv\n",
      "Processing now: renamed_Childcare Centers_2022.csv\n",
      "Processing now: renamed_Community & Cultural Centers.csv\n",
      "Processing now: renamed_Community Gardens.csv\n",
      "Processing now: renamed_Food Pantries.csv\n",
      "Processing now: renamed_Grocery Stores.csv\n",
      "Processing now: renamed_Hospitals and Clinics.csv\n",
      "Processing now: renamed_Libraries.csv\n",
      "Processing now: renamed_Parks.csv\n",
      "Processing now: renamed_Recreation Centers.csv\n",
      "Processing now: renamed_Religious Centers.csv\n",
      "Processing now: url_Farmer's Markets.csv\n"
     ]
    }
   ],
   "source": [
    "#updates the .csv files in spatial_data for all the specified years by adding a column 'school_zones' which contains all the\n",
    "#school zones that resource is in.\n",
    "\n",
    "years = ['2021']\n",
    "\n",
    "for year in years:\n",
    "    geofilesdir = 'data/'+year+'/map_data/'\n",
    "    spatialfilesdir = 'data/'+year+'/spatial_data/'\n",
    "    \n",
    "    check(geofilesdir, spatialfilesdir)"
   ]
  }
 ],
 "metadata": {
  "kernelspec": {
   "display_name": "Python 3 (ipykernel)",
   "language": "python",
   "name": "python3"
  },
  "language_info": {
   "codemirror_mode": {
    "name": "ipython",
    "version": 3
   },
   "file_extension": ".py",
   "mimetype": "text/x-python",
   "name": "python",
   "nbconvert_exporter": "python",
   "pygments_lexer": "ipython3",
   "version": "3.8.13"
  }
 },
 "nbformat": 4,
 "nbformat_minor": 5
}
