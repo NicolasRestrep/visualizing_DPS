{
 "cells": [
  {
   "cell_type": "code",
   "execution_count": 3,
   "id": "50ff2ac5",
   "metadata": {},
   "outputs": [],
   "source": [
    "import json\n",
    "from shapely.geometry import shape, Point\n",
    "\n",
    "#to plot polygons\n",
    "import matplotlib.pyplot as plt\n",
    "import geopandas as gpd\n",
    "\n",
    "#to open the csv, excel files as dataframes \n",
    "import pandas as pd\n",
    "import numpy as np\n",
    "\n",
    "#to list all files in a dir\n",
    "from os import listdir\n",
    "from os.path import isfile, join\n",
    "\n",
    "def check_single(geojs, point):\n",
    "    for feature in geojs['features']:\n",
    "        polygon = shape(feature['geometry'])\n",
    "        #print(polygon)\n",
    "        #p = gpd.GeoSeries(polygon)\n",
    "        #p.plot()\n",
    "        #plt.show()\n",
    "        if polygon.contains(point):\n",
    "            return True\n",
    "        \n",
    "    return False\n",
    "\n",
    "def check(geofilesdir, spatialfilesdir):\n",
    "    \n",
    "    geofiles = [f for f in listdir(geofilesdir) if isfile(join(geofilesdir, f))]\n",
    "    spatialfiles = [f for f in listdir(spatialfilesdir) if isfile(join(spatialfilesdir, f))]\n",
    "    print(geofiles)\n",
    "    print(spatialfiles)\n",
    "    \n",
    "    for spatialfile in spatialfiles:\n",
    "        print(\"Processing now: \" + spatialfile)\n",
    "        df = pd.read_csv(spatialfilesdir+spatialfile)\n",
    "        df[\"school_zones\"] = \"\"\n",
    "        \n",
    "        for geofile in geofiles:\n",
    "            with open(geofilesdir+geofile, 'r') as f:\n",
    "                geojs = json.load(f)\n",
    "            schoolname = geofile[:len(geofile) - 8]\n",
    "            \n",
    "            for index, row in df.iterrows():\n",
    "                longitude = float(row['LONGITUDE'])\n",
    "                latitude = float(row['LATITUDE'])\n",
    "                point = Point(longitude, latitude)\n",
    "                zones = row[\"school_zones\"]\n",
    "                if check_single(geojs, point):\n",
    "                    zones = zones + schoolname + \",\"\n",
    "                df.at[index,'school_zones'] = zones\n",
    "        \n",
    "        for index, row in df.iterrows():\n",
    "            zones = row[\"school_zones\"]\n",
    "            zones = zones[:-1]\n",
    "            df.at[index,'school_zones'] = zones\n",
    "        \n",
    "        newspatialfile = spatialfile\n",
    "        df.to_csv(spatialfilesdir+newspatialfile)"
   ]
  },
  {
   "cell_type": "code",
   "execution_count": 4,
   "id": "b49b75f2",
   "metadata": {
    "scrolled": false
   },
   "outputs": [
    {
     "name": "stdout",
     "output_type": "stream",
     "text": [
      "True\n",
      "True\n"
     ]
    }
   ],
   "source": [
    "#single example: Forest hills clubhouse contained in the CC Spaulding school zone\n",
    "point = Point(-78.91356462, 35.97993926)\n",
    "with open('data/2021/map_data/C.C. Spaulding Elementary.geojson', 'r') as f:\n",
    "    geojs = json.load(f)\n",
    "    \n",
    "df = pd.read_csv(\"data/2021/spatial_data/renamed_Recreation Centers.csv\")\n",
    "point2 = Point(df.iloc[[11]][\"LONGITUDE\"], df.iloc[[11]][\"LATITUDE\"])\n",
    "\n",
    "#should print True\n",
    "print(check_single(geojs, point))\n",
    "print(check_single(geojs, point2))"
   ]
  },
  {
   "cell_type": "code",
   "execution_count": 5,
   "id": "e1efbc18",
   "metadata": {
    "scrolled": false
   },
   "outputs": [
    {
     "name": "stdout",
     "output_type": "stream",
     "text": [
      "['All.geojson', 'C.C. Spaulding Elementary.geojson', 'E.K. Powe Elementary.geojson', 'Eastway Elementary.geojson', 'Fayetteville Street Elementary.geojson', 'Forest View Elementary.geojson', 'Hillside High.geojson', 'Jordan High.geojson', 'Lakewood Elementary.geojson', 'Parkwood Elementary.geojson', 'Southwest Elementary.geojson']\n",
      "['renamed_After-School Care Programs.csv', 'renamed_Bus Stops.csv', 'renamed_Childcare Centers_2022.csv', 'renamed_Community & Cultural Centers.csv', 'renamed_Community Gardens.csv', 'renamed_Food Pantries.csv', 'renamed_Grocery Stores.csv', 'renamed_Hospitals and Clinics.csv', 'renamed_Libraries.csv', 'renamed_Parks.csv', 'renamed_Recreation Centers.csv', 'renamed_Religious Centers.csv', 'schools.csv', \"url_Farmer's Markets.csv\"]\n",
      "Processing now: renamed_After-School Care Programs.csv\n",
      "Processing now: renamed_Bus Stops.csv\n",
      "Processing now: renamed_Childcare Centers_2022.csv\n",
      "Processing now: renamed_Community & Cultural Centers.csv\n",
      "Processing now: renamed_Community Gardens.csv\n",
      "Processing now: renamed_Food Pantries.csv\n",
      "Processing now: renamed_Grocery Stores.csv\n",
      "Processing now: renamed_Hospitals and Clinics.csv\n",
      "Processing now: renamed_Libraries.csv\n",
      "Processing now: renamed_Parks.csv\n",
      "Processing now: renamed_Recreation Centers.csv\n",
      "Processing now: renamed_Religious Centers.csv\n",
      "Processing now: schools.csv\n",
      "Processing now: url_Farmer's Markets.csv\n"
     ]
    }
   ],
   "source": [
    "#updates the .csv files in spatial_data for all the specified years by adding a column 'school_zones' which contains all the\n",
    "#school zones that resource is in.\n",
    "\n",
    "years = ['2021']\n",
    "\n",
    "for year in years:\n",
    "    geofilesdir = 'data/'+year+'/map_data/'\n",
    "    spatialfilesdir = 'data/'+year+'/spatial_data/'\n",
    "    \n",
    "    check(geofilesdir, spatialfilesdir)"
   ]
  }
 ],
 "metadata": {
  "kernelspec": {
   "display_name": "Python 3 (ipykernel)",
   "language": "python",
   "name": "python3"
  },
  "language_info": {
   "codemirror_mode": {
    "name": "ipython",
    "version": 3
   },
   "file_extension": ".py",
   "mimetype": "text/x-python",
   "name": "python",
   "nbconvert_exporter": "python",
   "pygments_lexer": "ipython3",
   "version": "3.8.13"
  }
 },
 "nbformat": 4,
 "nbformat_minor": 5
}
